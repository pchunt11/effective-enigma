{
 "cells": [
  {
   "cell_type": "code",
   "execution_count": 1,
   "metadata": {
    "collapsed": true
   },
   "outputs": [],
   "source": [
    "from bs4 import BeautifulSoup\n",
    "import pandas as pd\n",
    "import numpy as np\n",
    "import requests"
   ]
  },
  {
   "cell_type": "code",
   "execution_count": 9,
   "metadata": {
    "collapsed": true
   },
   "outputs": [],
   "source": [
    "urlat =requests.get(\"https://www.aajtak.in/\").text"
   ]
  },
  {
   "cell_type": "code",
   "execution_count": 1,
   "metadata": {
    "collapsed": true
   },
   "outputs": [],
   "source": [
    "from bs4 import BeautifulSoup\n",
    "import pandas as pd\n",
    "import numpy as np\n",
    "import requests\n",
    "from datetime import datetime\n",
    "\n",
    "def AT_text():\n",
    "    now = datetime.now()\n",
    "    date = now.strftime(\"%d_%m_%y\")\n",
    "    \n",
    "    urlat =requests.get(\"https://www.aajtak.in/\").text\n",
    "    \n",
    "    soup = BeautifulSoup(urlat, \"lxml\")\n",
    "    html = soup.prettify()\n",
    "\n",
    "    html_name = \"Aaj_Tak_\" + date + \".html\"\n",
    "    with open(html_name, \"w\", encoding=\"utf-8\") as file:\n",
    "        file.write(html)\n",
    "    \n",
    "    text_name = r\"C:\\Users\\Paul\\Documents\\#Stats Classes\\Fall 2021\\MSSS\\Aaj_Tak_\"+date+\".html\"\n",
    "    text_file = open(text_name, \"r\", encoding = 'utf-8')\n",
    "    html = text_file.read()\n",
    "    text_file.close()\n",
    "    \n",
    "    #AT_story_region = soupat.find('div', class_ = 'story-listing')\n",
    "    #AT_stories = AT_story_region.find_all('li')\n",
    "    \n",
    "    AT_fp = soup.find('div', class_ = 'player-sec')\n",
    "    AT_stories = AT_fp.find_all('li') + AT_fp.find_all('div', class_ = 'hhm-stoy-left-body') + AT_fp.find_all('div', class_ = 'home-single-story')\n",
    "    \n",
    "    list_titles = []\n",
    "    list_links = []\n",
    "    content =[]\n",
    "\n",
    "    for i in np.arange(0,len(AT_stories)):\n",
    "        title = AT_stories[i].get_text()\n",
    "        list_titles.append(title)\n",
    "        \n",
    "        link = AT_stories[i].find('a')['href']\n",
    "        list_links.append(link)\n",
    "        \n",
    "        article = requests.get(link)\n",
    "        art_content = article.content\n",
    "        soup_art = BeautifulSoup(art_content, 'lxml')\n",
    "        body = soup_art.find_all('div', class_ = 'story-with-main-sec')\n",
    "        \n",
    "        if len(body) >0:    \n",
    "            x = body[0].find_all('p')\n",
    "            list_paragraphs = []\n",
    "            for p in np.arange(0, len(x)):\n",
    "                par = x[p].get_text()\n",
    "                list_paragraphs.append(par)\n",
    "                final_article = \" \".join(list_paragraphs)\n",
    "            \n",
    "            content.append(final_article)\n",
    "        \n",
    "    txt_file = \"Aaj_Tak\\\\Aaj_Tak_\" + date + \".txt\"\n",
    "    with open(txt_file, 'w', encoding=\"utf-8\") as f:\n",
    "        for item in content:\n",
    "            f.write(\"%s\\n\" % item)\n",
    "    \n",
    "AT_text()"
   ]
  }
 ],
 "metadata": {
  "kernelspec": {
   "display_name": "Python 3",
   "language": "python",
   "name": "python3"
  },
  "language_info": {
   "codemirror_mode": {
    "name": "ipython",
    "version": 3
   },
   "file_extension": ".py",
   "mimetype": "text/x-python",
   "name": "python",
   "nbconvert_exporter": "python",
   "pygments_lexer": "ipython3",
   "version": "3.6.1"
  }
 },
 "nbformat": 4,
 "nbformat_minor": 2
}
