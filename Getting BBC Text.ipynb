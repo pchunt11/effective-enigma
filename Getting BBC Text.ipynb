{
 "cells": [
  {
   "cell_type": "code",
   "execution_count": 16,
   "metadata": {
    "collapsed": true
   },
   "outputs": [],
   "source": [
    "from bs4 import BeautifulSoup\n",
    "import pandas as pd\n",
    "import numpy as np\n",
    "import requests"
   ]
  },
  {
   "cell_type": "code",
   "execution_count": 22,
   "metadata": {
    "collapsed": true
   },
   "outputs": [],
   "source": [
    "url1 =requests.get(\"https://www.bbc.com/hindi\").text\n",
    "\n"
   ]
  },
  {
   "cell_type": "code",
   "execution_count": 1,
   "metadata": {},
   "outputs": [
    {
     "ename": "NameError",
     "evalue": "name 'requests' is not defined",
     "output_type": "error",
     "traceback": [
      "\u001b[1;31m---------------------------------------------------------------------------\u001b[0m",
      "\u001b[1;31mNameError\u001b[0m                                 Traceback (most recent call last)",
      "\u001b[1;32m<ipython-input-1-760b27095317>\u001b[0m in \u001b[0;36m<module>\u001b[1;34m()\u001b[0m\n\u001b[0;32m     51\u001b[0m                 \u001b[0mf\u001b[0m\u001b[1;33m.\u001b[0m\u001b[0mwrite\u001b[0m\u001b[1;33m(\u001b[0m\u001b[1;34m\"%s\\n\"\u001b[0m \u001b[1;33m%\u001b[0m \u001b[0mitem\u001b[0m\u001b[1;33m)\u001b[0m\u001b[1;33m\u001b[0m\u001b[0m\n\u001b[0;32m     52\u001b[0m \u001b[1;33m\u001b[0m\u001b[0m\n\u001b[1;32m---> 53\u001b[1;33m \u001b[0mbbc_text\u001b[0m\u001b[1;33m(\u001b[0m\u001b[1;33m)\u001b[0m\u001b[1;33m\u001b[0m\u001b[0m\n\u001b[0m",
      "\u001b[1;32m<ipython-input-1-760b27095317>\u001b[0m in \u001b[0;36mbbc_text\u001b[1;34m()\u001b[0m\n\u001b[0;32m      4\u001b[0m     \u001b[0mdate\u001b[0m \u001b[1;33m=\u001b[0m \u001b[0mnow\u001b[0m\u001b[1;33m.\u001b[0m\u001b[0mstrftime\u001b[0m\u001b[1;33m(\u001b[0m\u001b[1;34m\"%d_%m_%y\"\u001b[0m\u001b[1;33m)\u001b[0m\u001b[1;33m\u001b[0m\u001b[0m\n\u001b[0;32m      5\u001b[0m \u001b[1;33m\u001b[0m\u001b[0m\n\u001b[1;32m----> 6\u001b[1;33m     \u001b[0murl1\u001b[0m \u001b[1;33m=\u001b[0m\u001b[0mrequests\u001b[0m\u001b[1;33m.\u001b[0m\u001b[0mget\u001b[0m\u001b[1;33m(\u001b[0m\u001b[1;34m\"https://www.bbc.com/hindi\"\u001b[0m\u001b[1;33m)\u001b[0m\u001b[1;33m.\u001b[0m\u001b[0mtext\u001b[0m\u001b[1;33m\u001b[0m\u001b[0m\n\u001b[0m\u001b[0;32m      7\u001b[0m \u001b[1;33m\u001b[0m\u001b[0m\n\u001b[0;32m      8\u001b[0m     \u001b[0msoup\u001b[0m \u001b[1;33m=\u001b[0m \u001b[0mBeautifulSoup\u001b[0m\u001b[1;33m(\u001b[0m\u001b[0murl1\u001b[0m\u001b[1;33m,\u001b[0m \u001b[1;34m\"lxml\"\u001b[0m\u001b[1;33m)\u001b[0m\u001b[1;33m\u001b[0m\u001b[0m\n",
      "\u001b[1;31mNameError\u001b[0m: name 'requests' is not defined"
     ]
    }
   ],
   "source": [
    "from datetime import datetime\n",
    "def bbc_text():\n",
    "    now = datetime.now()\n",
    "    date = now.strftime(\"%d_%m_%y\")\n",
    "    \n",
    "    url1 =requests.get(\"https://www.bbc.com/hindi\").text\n",
    "    \n",
    "    soup = BeautifulSoup(url1, \"lxml\")\n",
    "    html = soup.prettify()\n",
    "\n",
    "    html_name = \"bbc_hindi_\" + date + \".html\"\n",
    "    with open(html_name, \"w\", encoding=\"utf-8\") as file:\n",
    "        file.write(html)\n",
    "    \n",
    "    text_name = r\"C:\\Users\\Paul\\Documents\\#Stats Classes\\Fall 2021\\MSSS\\bbc_hindi_\"+date+\".html\"\n",
    "    text_file = open(text_name, \"r\", encoding = 'utf-8')\n",
    "    html = text_file.read()\n",
    "    text_file.close()\n",
    "    \n",
    "    bbc_fp = soup.find_all('div', class_='bbc-1dblbh1 e17m6msg1')\n",
    "    bbc_stories = bbc_fp[0].find_all('li')\n",
    "    \n",
    "    list_titles = []\n",
    "    list_links = []\n",
    "    content =[]\n",
    "\n",
    "    for i in np.arange(0,len(bbc_stories)):\n",
    "        title = bbc_stories[i].get_text()\n",
    "        list_titles.append(title)\n",
    "        \n",
    "        link = 'http://bbc.com'+bbc_stories[i].find('a')['href']\n",
    "        list_links.append('http://bbc.com'+link)\n",
    "        \n",
    "        article = requests.get(link)\n",
    "        art_content = article.content\n",
    "        soup_art = BeautifulSoup(art_content, 'lxml')\n",
    "        body = soup_art.find_all('body')\n",
    "        x = body[0].find_all('p', class_ = 'bbc-1shrd86 e1cc2ql70')\n",
    "          \n",
    "        list_paragraphs = []\n",
    "        for p in np.arange(0, len(x)):\n",
    "            par = x[p].get_text()\n",
    "            list_paragraphs.append(par)\n",
    "            final_article = \" \".join(list_paragraphs)\n",
    "        \n",
    "        content.append(final_article)\n",
    "        \n",
    "        txt_file = \"BBC\\\\bbc_hindi_\" + date + \".txt\"\n",
    "        with open(txt_file, 'w', encoding=\"utf-8\") as f:\n",
    "            for item in content:\n",
    "                f.write(\"%s\\n\" % item)\n",
    "    \n",
    "bbc_text()"
   ]
  }
 ],
 "metadata": {
  "kernelspec": {
   "display_name": "Python 3",
   "language": "python",
   "name": "python3"
  },
  "language_info": {
   "codemirror_mode": {
    "name": "ipython",
    "version": 3
   },
   "file_extension": ".py",
   "mimetype": "text/x-python",
   "name": "python",
   "nbconvert_exporter": "python",
   "pygments_lexer": "ipython3",
   "version": "3.6.1"
  }
 },
 "nbformat": 4,
 "nbformat_minor": 2
}
